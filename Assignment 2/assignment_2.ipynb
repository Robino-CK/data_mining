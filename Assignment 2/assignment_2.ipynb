{
 "cells": [
  {
   "cell_type": "code",
   "execution_count": 1,
   "metadata": {},
   "outputs": [],
   "source": [
    "import pandas as pd\n",
    "import glob\n",
    "import matplotlib.pyplot as plt\n",
    "\n",
    "from sklearn.feature_extraction.text import CountVectorizer\n",
    "from sklearn.feature_extraction.text import TfidfTransformer\n",
    "from sklearn.pipeline import Pipeline\n",
    "\n",
    "from sklearn.naive_bayes import MultinomialNB\n",
    "from sklearn.linear_model import LogisticRegression\n",
    "from sklearn.tree import DecisionTreeClassifier\n",
    "from sklearn.ensemble import RandomForestClassifier\n",
    "from sklearn.model_selection import GridSearchCV\n",
    "from sklearn.metrics import accuracy_score, precision_score, recall_score, f1_score, confusion_matrix\n",
    "from sklearn.tree import plot_tree\n",
    "from sklearn.feature_selection import SelectPercentile \n"
   ]
  },
  {
   "cell_type": "code",
   "execution_count": 2,
   "metadata": {},
   "outputs": [],
   "source": [
    "# # Load Data from folds 1-4\n",
    "\n",
    "# # Make sure the working directory is the same as the script\n",
    "\n",
    "# files = glob.glob('negative_polarity/deceptive_from_MTurk/fold1/*.txt')\n",
    "# files += glob.glob('negative_polarity/deceptive_from_MTurk/fold2/*.txt')\n",
    "# files += glob.glob('negative_polarity/deceptive_from_MTurk/fold3/*.txt')\n",
    "# files += glob.glob('negative_polarity/deceptive_from_MTurk/fold4/*.txt')\n",
    "\n",
    "\n",
    "# deceptive = pd.DataFrame(columns=['text'])   \n",
    "# for file in files:\n",
    "#     with open(file, 'r') as f:\n",
    "#             text = f.read()\n",
    "#             deceptive = pd.concat([deceptive, pd.DataFrame({'text': [text]})], ignore_index=True)\n",
    "\n",
    "\n",
    "# files = glob.glob('negative_polarity/truthful_from_Web/fold1/*.txt')\n",
    "# files += glob.glob('negative_polarity/truthful_from_Web/fold2/*.txt')\n",
    "# files += glob.glob('negative_polarity/truthful_from_Web/fold3/*.txt')\n",
    "# files += glob.glob('negative_polarity/truthful_from_Web/fold4/*.txt')\n",
    "\n",
    "# truthful = pd.DataFrame(columns=['text'])\n",
    "# for file in files:\n",
    "#     with open(file, 'r') as f:\n",
    "#             text = f.read()\n",
    "#             truthful = pd.concat([truthful, pd.DataFrame({'text': [text]})], ignore_index=True)\n",
    "\n",
    "# deceptive['label'] = 0\n",
    "# truthful['label'] = 1\n",
    "\n",
    "# train = pd.concat([deceptive, truthful], ignore_index=True)\n",
    "\n",
    "# files = glob.glob('negative_polarity/deceptive_from_MTurk/fold5/*.txt')\n",
    "# deceptive_test = pd.DataFrame(columns=['text']) \n",
    "# for file in files:\n",
    "#     with open(file, 'r') as f:\n",
    "#             text = f.read()\n",
    "#             deceptive_test = pd.concat([deceptive_test, pd.DataFrame({'text': [text]})], ignore_index=True)\n",
    "\n",
    "\n",
    "# files = glob.glob('negative_polarity/truthful_from_Web/fold5/*.txt')\n",
    "# truthful_test = pd.DataFrame(columns=['text'])\n",
    "# for file in files:\n",
    "#     with open(file, 'r') as f:\n",
    "#             text = f.read()\n",
    "#             truthful_test = pd.concat([truthful_test, pd.DataFrame({'text': [text]})], ignore_index=True)\n",
    "\n",
    "# deceptive_test['label'] = 0\n",
    "# truthful_test['label'] = 1\n",
    "\n",
    "# test = pd.concat([deceptive_test, truthful_test], ignore_index=True)\n",
    "\n"
   ]
  },
  {
   "cell_type": "code",
   "execution_count": 3,
   "metadata": {},
   "outputs": [],
   "source": [
    "# train.to_csv('train.csv', index=False)\n",
    "# test.to_csv('test.csv', index=False)"
   ]
  },
  {
   "cell_type": "code",
   "execution_count": 4,
   "metadata": {},
   "outputs": [],
   "source": [
    "train = pd.read_csv('train.csv')\n",
    "test = pd.read_csv('test.csv')"
   ]
  },
  {
   "cell_type": "code",
   "execution_count": 5,
   "metadata": {},
   "outputs": [],
   "source": [
    "all_models = {}"
   ]
  },
  {
   "cell_type": "markdown",
   "metadata": {},
   "source": [
    "### BOW Unigrams No Normalisation"
   ]
  },
  {
   "cell_type": "code",
   "execution_count": 6,
   "metadata": {},
   "outputs": [],
   "source": [
    "# Bag of words with unigrams\n",
    "text_clf = Pipeline([\n",
    "    ('vect', CountVectorizer())\n",
    "])\n",
    "\n",
    "X_train = text_clf.fit_transform(train['text'])\n",
    "X_test = text_clf.transform(test['text'])\n",
    "\n",
    "X_train = X_train.toarray()\n",
    "X_test = X_test.toarray()\n",
    "\n",
    "X_train = pd.DataFrame(X_train, columns=text_clf.named_steps['vect'].get_feature_names_out())\n",
    "X_test = pd.DataFrame(X_test, columns=text_clf.named_steps['vect'].get_feature_names_out())\n",
    "\n",
    "y_train = train['label']\n",
    "y_test = test['label']\n",
    "\n",
    "\n",
    "\n"
   ]
  },
  {
   "cell_type": "code",
   "execution_count": null,
   "metadata": {},
   "outputs": [
    {
     "ename": "SyntaxError",
     "evalue": "unterminated string literal (detected at line 14) (2062897391.py, line 14)",
     "output_type": "error",
     "traceback": [
      "\u001b[0;36m  Cell \u001b[0;32mIn[7], line 14\u001b[0;36m\u001b[0m\n\u001b[0;31m    'Random Forest': {'max_depth': [1, 5, 10], 'n_estimators': [10, 100, 1000], 'max_features': ['sqrt', 'log2'], 'min_samples_split': [2, 5, 10]}': [1, 5, 10], 'n_estimators': [10, 100, 1000], 'max_features': ['sqrt', 'log2'], 'min_samples_split': [2, 5, 10]}\u001b[0m\n\u001b[0m                                                                                                                                                                                                                                                      ^\u001b[0m\n\u001b[0;31mSyntaxError\u001b[0m\u001b[0;31m:\u001b[0m unterminated string literal (detected at line 14)\n"
     ]
    }
   ],
   "source": [
    "# Create Models\n",
    "models = {\n",
    "    'Naive Bayes': MultinomialNB(),\n",
    "    'Logistic Regression': LogisticRegression(),\n",
    "    'Decision Tree': DecisionTreeClassifier(),\n",
    "    'Random Forest': RandomForestClassifier()\n",
    "}\n",
    "\n",
    "# Tune hyperparameters\n",
    "param_grid = {\n",
    "    'Naive Bayes': {\"alpha\": [0.1, 0.5, 1]},\n",
    "    'Logistic Regression': {'C': [0.01, 0.1, 1, 10, 100]},\n",
    "    'Decision Tree': {'max_depth': [1, 2, 5, 10, 100], 'ccp_alpha': [0.0, 0.1, 0.2, 0.3, 0.5], 'min_samples_split': [2, 5, 10]},\n",
    "    'Random Forest': {'max_depth': [1, 5, 10], 'n_estimators': [10, 100, 1000], 'max_features': ['sqrt', 'log2'], 'min_samples_split': [2, 5, 10]}\n",
    "}\n",
    "\n",
    "for model_name, model in models.items():\n",
    "    print(f'Training {model_name}')\n",
    "    grid_search = GridSearchCV(model, param_grid[model_name], cv=5)\n",
    "    grid_search.fit(X_train, y_train)\n",
    "    print(f'Best parameters: {grid_search.best_params_}')\n",
    "    print(f'Best score: {grid_search.best_score_}')\n",
    "    models[model_name] = grid_search.best_estimator_\n",
    "\n"
   ]
  },
  {
   "cell_type": "code",
   "execution_count": null,
   "metadata": {},
   "outputs": [],
   "source": []
  },
  {
   "cell_type": "code",
   "execution_count": null,
   "metadata": {},
   "outputs": [],
   "source": [
    "from scipy.stats import chi2\n",
    "\n",
    "from statsmodels.stats.contingency_tables import mcnemar\n",
    "def mcnemar_test_models(preds1, preds2, y):\n",
    "    # Generate predictions for both models\n",
    "    \n",
    "    # Calculate discordant pairs\n",
    "    \n",
    "    a = sum((preds1 == y) & (preds2 == y))  # Both models classify correctly\n",
    "    b = sum((preds1 == y) & (preds2 != y))  # Model 1 misclassifies, model 2 classifies correctly\n",
    "    c = sum((preds1 != y) & (preds2 == y))  # Model 1 classifies correctly, model 2 misclassifies\n",
    "    d = sum((preds1 != y) & (preds2 != y))  # Both models misclassify\n",
    "    \n",
    "    m = [[a, b], [c, d]]\n",
    "    return mcnemar(m)\n"
   ]
  },
  {
   "cell_type": "code",
   "execution_count": null,
   "metadata": {},
   "outputs": [
    {
     "name": "stdout",
     "output_type": "stream",
     "text": [
      "                 Model  Accuracy  Precision  Recall        F1\n",
      "0          Naive Bayes   0.89375   0.898734  0.8875  0.893082\n",
      "1  Logistic Regression   0.83125   0.797753  0.8875  0.840237\n",
      "2        Decision Tree   0.56250   0.555556  0.6250  0.588235\n",
      "3        Random Forest   0.81250   0.828947  0.7875  0.807692\n"
     ]
    }
   ],
   "source": [
    "# Evaluate models\n",
    "results = pd.DataFrame(columns=['Model', 'Accuracy', 'Precision', 'Recall', 'F1'])\n",
    "all_models[\"unigram-no-normalization\"] = {}\n",
    "for model_name, model in models.items():\n",
    "    y_pred = model.predict(X_test)\n",
    "    result = pd.DataFrame({\n",
    "        'Model': [model_name],\n",
    "        'Accuracy': [accuracy_score(y_test, y_pred)],\n",
    "        'Precision': [precision_score(y_test, y_pred)],\n",
    "        'Recall': [recall_score(y_test, y_pred)],\n",
    "        'F1': [f1_score(y_test, y_pred)]    \n",
    "    })\n",
    "    results = pd.concat([results, result], ignore_index=True)\n",
    "    \n",
    "    all_models[\"unigram-no-normalization\"][model_name] = {}\n",
    "    all_models[\"unigram-no-normalization\"][model_name][\"y_pred\"] = y_pred.copy()\n",
    "    all_models[\"unigram-no-normalization\"][model_name][\"model\"] = model\n",
    "    all_models[\"unigram-no-normalization\"][model_name][\"y_test\"] = y_test.copy()\n",
    " \n",
    "    \n",
    "print(results)\n"
   ]
  },
  {
   "cell_type": "code",
   "execution_count": null,
   "metadata": {},
   "outputs": [
    {
     "name": "stdout",
     "output_type": "stream",
     "text": [
      "Feature Importance: Random Forest\n",
      "       Feature  Importance\n",
      "1193   chicago    0.026837\n",
      "4005        my    0.008107\n",
      "3631  location    0.008058\n",
      "6669       was    0.007088\n",
      "5564     smell    0.006632\n",
      "6699        we    0.006221\n",
      "587         at    0.005936\n",
      "4847  recently    0.005257\n",
      "6111       the    0.005044\n",
      "3065     hotel    0.004989\n",
      "\n",
      "Feature Importance: Decision Tree\n",
      "      Feature  Importance\n",
      "1193  chicago    0.175349\n",
      "510       are    0.031803\n",
      "4091       no    0.031178\n",
      "5400   sheets    0.029260\n",
      "1505     cool    0.025480\n",
      "6669      was    0.023124\n",
      "3354       is    0.021381\n",
      "6772  windows    0.019271\n",
      "4005       my    0.018916\n",
      "4117      not    0.017385\n"
     ]
    }
   ],
   "source": [
    "# Feature importance\n",
    "print('Feature Importance: Random Forest')\n",
    "feature_importance_rf = pd.DataFrame(columns=['Feature', 'Importance'])\n",
    "feature_importance_rf['Feature'] = X_train.columns\n",
    "feature_importance_rf['Importance'] = models['Random Forest'].feature_importances_\n",
    "feature_importance_rf = feature_importance_rf.sort_values(by='Importance', ascending=False)\n",
    "print(feature_importance_rf.head(10))\n",
    "\n",
    "print('\\nFeature Importance: Decision Tree')\n",
    "feature_importance_dt = pd.DataFrame(columns=['Feature', 'Importance'])\n",
    "feature_importance_dt['Feature'] = X_train.columns\n",
    "feature_importance_dt['Importance'] = models['Decision Tree'].feature_importances_\n",
    "feature_importance_dt = feature_importance_dt.sort_values(by='Importance', ascending=False)\n",
    "print(feature_importance_dt.head(10))"
   ]
  },
  {
   "cell_type": "code",
   "execution_count": null,
   "metadata": {},
   "outputs": [
    {
     "data": {
      "image/png": "[encoded data removed]",
      "text/plain": [
       "<Figure size 360x360 with 1 Axes>"
      ]
     },
     "metadata": {
      "needs_background": "light"
     },
     "output_type": "display_data"
    }
   ],
   "source": [
    "# Plot DT\n",
    "plt.figure(figsize=(5, 5))\n",
    "plot_tree(models['Decision Tree'], filled=True, feature_names=X_train.columns)\n",
    "plt.show()"
   ]
  },
  {
   "cell_type": "markdown",
   "metadata": {},
   "source": [
    "### BOW Unigrams with Normalisation and Feature Selection"
   ]
  },
  {
   "cell_type": "code",
   "execution_count": null,
   "metadata": {},
   "outputs": [],
   "source": [
    "# Bag of words with normalisation\n",
    "\n",
    "text_clf = Pipeline([\n",
    "    ('vect', CountVectorizer()),\n",
    "    ('tfidf', TfidfTransformer())\n",
    "])\n",
    "\n",
    "X_train = text_clf.fit_transform(train['text'])\n",
    "X_test = text_clf.transform(test['text'])\n",
    "\n",
    "X_train = X_train.toarray()\n",
    "X_test = X_test.toarray()\n",
    "\n",
    "X_train = pd.DataFrame(X_train, columns=text_clf.named_steps['vect'].get_feature_names_out())\n",
    "X_test = pd.DataFrame(X_test, columns=text_clf.named_steps['vect'].get_feature_names_out())\n",
    "\n",
    "y_train = train['label']\n",
    "y_test = test['label']\n",
    "\n",
    "selector = SelectPercentile(percentile=10)\n",
    "selector.fit(X_train, y_train)\n",
    "\n",
    "X_train = X_train.loc[:, selector.get_support()]\n",
    "X_test = X_test.loc[:, selector.get_support()]\n",
    "\n"
   ]
  },
  {
   "cell_type": "code",
   "execution_count": null,
   "metadata": {},
   "outputs": [
    {
     "name": "stdout",
     "output_type": "stream",
     "text": [
      "Training Naive Bayes\n",
      "Best parameters: {'alpha': 0.1}\n",
      "Best score: 0.940625\n",
      "Training Logistic Regression\n",
      "Best parameters: {}\n",
      "Best score: 0.8703125\n",
      "Training Decision Tree\n",
      "Best parameters: {}\n",
      "Best score: 0.6796875\n",
      "Training Random Forest\n",
      "Best parameters: {}\n",
      "Best score: 0.846875\n"
     ]
    }
   ],
   "source": [
    "\n",
    "models = {\n",
    "    'Naive Bayes': MultinomialNB(),\n",
    "    'Logistic Regression': LogisticRegression(),\n",
    "    'Decision Tree': DecisionTreeClassifier(),\n",
    "    'Random Forest': RandomForestClassifier()\n",
    "}\n",
    "\n",
    "# Tune hyperparameters\n",
    "\n",
    "param_grid = {\n",
    "    'Naive Bayes': {\"alpha\": [0.1, 0.5, 1]},\n",
    "    'Logistic Regression': {'C': [0.01, 0.1, 1, 10, 100]},\n",
    "    'Decision Tree': {'max_depth': [1, 2, 5, 10, 100], 'ccp_alpha': [0.0, 0.1, 0.2, 0.3, 0.5], 'min_samples_split': [2, 5, 10]},\n",
    "    'Random Forest': {'max_depth': [1, 5, 10], 'n_estimators': [10, 100, 1000], 'max_features': ['sqrt', 'log2'], 'min_samples_split': [2, 5, 10]}\n",
    "}\n",
    "\n",
    "for model_name, model in models.items():\n",
    "    print(f'Training {model_name}')\n",
    "    grid_search = GridSearchCV(model, param_grid[model_name], cv=5)\n",
    "    grid_search.fit(X_train, y_train)\n",
    "    print(f'Best parameters: {grid_search.best_params_}')\n",
    "    print(f'Best score: {grid_search.best_score_}')\n",
    "    models[model_name] = grid_search.best_estimator_\n"
   ]
  },
  {
   "cell_type": "code",
   "execution_count": null,
   "metadata": {},
   "outputs": [
    {
     "name": "stdout",
     "output_type": "stream",
     "text": [
      "                 Model  Accuracy  Precision  Recall        F1\n",
      "0          Naive Bayes   0.85000   0.818182   0.900  0.857143\n",
      "1  Logistic Regression   0.83125   0.791209   0.900  0.842105\n",
      "2        Decision Tree   0.70625   0.720000   0.675  0.696774\n",
      "3        Random Forest   0.83125   0.819277   0.850  0.834356\n"
     ]
    }
   ],
   "source": [
    "# Evaluate models\n",
    "\n",
    "results = pd.DataFrame(columns=['Model', 'Accuracy', 'Precision', 'Recall', 'F1'])\n",
    "all_models[\"unigram-with-normalization\"] = {}\n",
    "for model_name, model in models.items():\n",
    "    y_pred = model.predict(X_test)\n",
    "    result = pd.DataFrame({\n",
    "        'Model': [model_name],\n",
    "        'Accuracy': [accuracy_score(y_test, y_pred)],\n",
    "        'Precision': [precision_score(y_test, y_pred)],\n",
    "        'Recall': [recall_score(y_test, y_pred)],\n",
    "        'F1': [f1_score(y_test, y_pred)]\n",
    "    })\n",
    "    results = pd.concat([results, result], ignore_index=True)\n",
    "    all_models[\"unigram-with-normalization\"][model_name] = {}\n",
    "    all_models[\"unigram-with-normalization\"][model_name][\"y_pred\"] = y_pred.copy()\n",
    "    all_models[\"unigram-with-normalization\"][model_name][\"model\"] = model\n",
    "    all_models[\"unigram-with-normalization\"][model_name][\"y_test\"] = y_test.copy()\n",
    " \n",
    "\n",
    "print(results)\n"
   ]
  },
  {
   "cell_type": "code",
   "execution_count": null,
   "metadata": {},
   "outputs": [
    {
     "name": "stdout",
     "output_type": "stream",
     "text": [
      "Feature Importance: Random Forest\n",
      "      Feature  Importance\n",
      "110   chicago    0.066759\n",
      "656       was    0.025640\n",
      "74         be    0.020421\n",
      "386        my    0.015952\n",
      "668      when    0.013923\n",
      "339  location    0.013826\n",
      "294     hotel    0.013439\n",
      "317        is    0.012080\n",
      "407        of    0.010833\n",
      "307        in    0.010802\n",
      "\n",
      "Feature Importance: Decision Tree\n",
      "        Feature  Importance\n",
      "110     chicago    0.223415\n",
      "386          my    0.047535\n",
      "74           be    0.037233\n",
      "630      turned    0.033942\n",
      "268         had    0.033056\n",
      "241       floor    0.032194\n",
      "38          all    0.029881\n",
      "612          to    0.027538\n",
      "317          is    0.027321\n",
      "140  conference    0.022231\n"
     ]
    }
   ],
   "source": [
    "# Get feature importance\n",
    "print('Feature Importance: Random Forest')\n",
    "feature_importance_rf = pd.DataFrame(columns=['Feature', 'Importance'])\n",
    "feature_importance_rf['Feature'] = X_train.columns\n",
    "feature_importance_rf['Importance'] = models['Random Forest'].feature_importances_\n",
    "feature_importance_rf = feature_importance_rf.sort_values(by='Importance', ascending=False)\n",
    "print(feature_importance_rf.head(10))\n",
    "\n",
    "print('\\nFeature Importance: Decision Tree')\n",
    "feature_importance_dt = pd.DataFrame(columns=['Feature', 'Importance'])\n",
    "feature_importance_dt['Feature'] = X_train.columns\n",
    "feature_importance_dt['Importance'] = models['Decision Tree'].feature_importances_\n",
    "feature_importance_dt = feature_importance_dt.sort_values(by='Importance', ascending=False)\n",
    "print(feature_importance_dt.head(10))"
   ]
  },
  {
   "cell_type": "code",
   "execution_count": null,
   "metadata": {},
   "outputs": [
    {
     "data": {
      "image/png": "[encoded data removed]",
      "text/plain": [
       "<Figure size 360x360 with 1 Axes>"
      ]
     },
     "metadata": {
      "needs_background": "light"
     },
     "output_type": "display_data"
    }
   ],
   "source": [
    "# Plot DT\n",
    "plt.figure(figsize=(5, 5))\n",
    "plot_tree(models['Decision Tree'], filled=True, feature_names=X_train.columns)\n",
    "plt.show()"
   ]
  },
  {
   "cell_type": "markdown",
   "metadata": {},
   "source": [
    "### BOW With Bigrams No Normalisation"
   ]
  },
  {
   "cell_type": "code",
   "execution_count": null,
   "metadata": {},
   "outputs": [],
   "source": [
    "# Bag of Words with bigrams\n",
    "\n",
    "text_clf = Pipeline([\n",
    "    ('vect', CountVectorizer(ngram_range=(1, 2)))    \n",
    "])\n",
    "\n",
    "X_train = text_clf.fit_transform(train['text'])\n",
    "X_test = text_clf.transform(test['text'])\n",
    "\n",
    "X_train = X_train.toarray()\n",
    "X_test = X_test.toarray()\n",
    "\n",
    "X_train = pd.DataFrame(X_train, columns=text_clf.named_steps['vect'].get_feature_names_out())\n",
    "X_test = pd.DataFrame(X_test, columns=text_clf.named_steps['vect'].get_feature_names_out())\n",
    "\n",
    "y_train = train['label']\n",
    "y_test = test['label']"
   ]
  },
  {
   "cell_type": "code",
   "execution_count": null,
   "metadata": {},
   "outputs": [
    {
     "name": "stdout",
     "output_type": "stream",
     "text": [
      "Training Naive Bayes\n",
      "Best parameters: {'alpha': 0.1}\n",
      "Best score: 0.8328125\n",
      "Training Logistic Regression\n",
      "Best parameters: {}\n",
      "Best score: 0.8515625\n",
      "Training Decision Tree\n",
      "Best parameters: {}\n",
      "Best score: 0.659375\n",
      "Training Random Forest\n",
      "Best parameters: {}\n",
      "Best score: 0.771875\n"
     ]
    }
   ],
   "source": [
    "# Tune hyperparameters\n",
    "\n",
    "param_grid = {\n",
    "    'Naive Bayes': {\"alpha\": [0.1, 0.5, 1]},\n",
    "    'Logistic Regression': {'C': [0.01, 0.1, 1, 10, 100]},\n",
    "    'Decision Tree': {'max_depth': [1, 2, 5, 10, 100], 'ccp_alpha': [0.0, 0.1, 0.3, 0.5], 'min_samples_split': [2, 5, 10]},\n",
    "    'Random Forest': {'max_depth': [1, 5, 10], 'n_estimators': [10, 100, 1000], 'max_features': ['sqrt', 'log2'], 'min_samples_split': [2, 5, 10]}\n",
    "    }\n",
    "\n",
    "for model_name, model in models.items():\n",
    "    print(f'Training {model_name}')\n",
    "    grid_search = GridSearchCV(model, param_grid[model_name], cv=5)\n",
    "    grid_search.fit(X_train, y_train)\n",
    "    print(f'Best parameters: {grid_search.best_params_}')\n",
    "    print(f'Best score: {grid_search.best_score_}')\n",
    "    models[model_name] = grid_search.best_estimator_\n",
    "    \n",
    "\n"
   ]
  },
  {
   "cell_type": "code",
   "execution_count": null,
   "metadata": {},
   "outputs": [],
   "source": [
    "# Evaluate models\n",
    "\n",
    "results = pd.DataFrame(columns=['Model', 'Accuracy', 'Precision', 'Recall', 'F1'])\n",
    "all_models[\"bigram-no-normalization\"] = {}\n",
    "\n",
    "\n",
    "for model_name, model in models.items():\n",
    "    y_pred = model.predict(X_test)\n",
    "    result = pd.DataFrame({\n",
    "        'Model': [model_name],\n",
    "        'Accuracy': [accuracy_score(y_test, y_pred)],\n",
    "        'Precision': [precision_score(y_test, y_pred)],\n",
    "        'Recall': [recall_score(y_test, y_pred)],\n",
    "        'F1': [f1_score(y_test, y_pred)],\n",
    "    })\n",
    "    results = pd.concat([results, result], ignore_index=True)\n",
    "    all_models[\"bigram-no-normalization\"][model_name] = {}\n",
    "    all_models[\"bigram-no-normalization\"][model_name][\"y_pred\"] = y_pred.copy()\n",
    "    all_models[\"bigram-no-normalization\"][model_name][\"model\"] = model\n",
    "    all_models[\"bigram-no-normalization\"][model_name][\"y_test\"] = y_test.copy()\n",
    " "
   ]
  },
  {
   "cell_type": "code",
   "execution_count": null,
   "metadata": {},
   "outputs": [
    {
     "name": "stdout",
     "output_type": "stream",
     "text": [
      "Feature Importance: Random Forest\n",
      "             Feature  Importance\n",
      "9711         chicago    0.010076\n",
      "5087          at the    0.004420\n",
      "37226       recently    0.003819\n",
      "26790       location    0.003519\n",
      "23213     in chicago    0.003404\n",
      "29484             my    0.003318\n",
      "9777   chicago hotel    0.003193\n",
      "29744        my room    0.003016\n",
      "52744             we    0.002838\n",
      "27321         luxury    0.002470\n",
      "\n",
      "Feature Importance: Decision Tree\n",
      "        Feature  Importance\n",
      "9711    chicago    0.175349\n",
      "4116        are    0.031803\n",
      "40517    sheets    0.029260\n",
      "11578      cool    0.025480\n",
      "23495    in the    0.023195\n",
      "51638       was    0.023124\n",
      "30588        no    0.021240\n",
      "17937  for room    0.020199\n",
      "47322      this    0.019447\n",
      "54443   windows    0.019271\n"
     ]
    }
   ],
   "source": [
    "# Feature importance\n",
    "print('Feature Importance: Random Forest')\n",
    "feature_importance_rf = pd.DataFrame(columns=['Feature', 'Importance'])\n",
    "feature_importance_rf['Feature'] = X_train.columns\n",
    "feature_importance_rf['Importance'] = models['Random Forest'].feature_importances_\n",
    "feature_importance_rf = feature_importance_rf.sort_values(by='Importance', ascending=False)\n",
    "print(feature_importance_rf.head(10))\n",
    "\n",
    "print('\\nFeature Importance: Decision Tree')\n",
    "feature_importance_dt = pd.DataFrame(columns=['Feature', 'Importance'])\n",
    "feature_importance_dt['Feature'] = X_train.columns\n",
    "feature_importance_dt['Importance'] = models['Decision Tree'].feature_importances_\n",
    "feature_importance_dt = feature_importance_dt.sort_values(by='Importance', ascending=False)\n",
    "print(feature_importance_dt.head(10))"
   ]
  },
  {
   "cell_type": "code",
   "execution_count": null,
   "metadata": {},
   "outputs": [
    {
     "data": {
      "image/png": "[encoded data removed]",
      "text/plain": [
       "<Figure size 360x360 with 1 Axes>"
      ]
     },
     "metadata": {
      "needs_background": "light"
     },
     "output_type": "display_data"
    }
   ],
   "source": [
    "# Plot DT\n",
    "plt.figure(figsize=(5, 5))\n",
    "plot_tree(models['Decision Tree'], filled=True, feature_names=X_train.columns)\n",
    "plt.show()"
   ]
  },
  {
   "cell_type": "markdown",
   "metadata": {},
   "source": [
    "### BOW Bigrams With Normalisation"
   ]
  },
  {
   "cell_type": "code",
   "execution_count": null,
   "metadata": {},
   "outputs": [],
   "source": [
    "# Bag of Words with vectorised bigrams\n",
    "\n",
    "text_clf = Pipeline([\n",
    "    ('vect', CountVectorizer(ngram_range=(1, 2))),\n",
    "    ('tfidf', TfidfTransformer())  \n",
    "])\n",
    "\n",
    "X_train = text_clf.fit_transform(train['text'])\n",
    "X_test = text_clf.transform(test['text'])\n",
    "\n",
    "X_train = X_train.toarray()\n",
    "X_test = X_test.toarray()\n",
    "\n",
    "X_train = pd.DataFrame(X_train, columns=text_clf.named_steps['vect'].get_feature_names_out())\n",
    "X_test = pd.DataFrame(X_test, columns=text_clf.named_steps['vect'].get_feature_names_out())\n",
    "\n",
    "y_train = train['label']\n",
    "y_test = test['label']\n",
    "\n",
    "selector = SelectPercentile(percentile=2)\n",
    "selector.fit(X_train, y_train)\n",
    "\n",
    "X_train = X_train.loc[:, selector.get_support()]\n",
    "X_test = X_test.loc[:, selector.get_support()]"
   ]
  },
  {
   "cell_type": "code",
   "execution_count": null,
   "metadata": {},
   "outputs": [
    {
     "data": {
      "text/plain": [
       "(640, 1117)"
      ]
     },
     "execution_count": 23,
     "metadata": {},
     "output_type": "execute_result"
    }
   ],
   "source": [
    "X_train.shape"
   ]
  },
  {
   "cell_type": "code",
   "execution_count": null,
   "metadata": {},
   "outputs": [
    {
     "name": "stdout",
     "output_type": "stream",
     "text": [
      "Training Naive Bayes\n",
      "Best parameters: {'alpha': 0.1}\n",
      "Best score: 0.96875\n",
      "Training Logistic Regression\n",
      "Best parameters: {}\n",
      "Best score: 0.8703125\n",
      "Training Decision Tree\n",
      "Best parameters: {}\n",
      "Best score: 0.6765625\n",
      "Training Random Forest\n",
      "Best parameters: {}\n",
      "Best score: 0.8578125\n"
     ]
    }
   ],
   "source": [
    "# Tune hyperparameters\n",
    "\n",
    "param_grid = {\n",
    "    'Naive Bayes': {\"alpha\": [0.1, 0.5, 1]},\n",
    "    'Logistic Regression': {'C': [0.01, 0.1, 1, 10, 100, 250, 500]},\n",
    "    'Decision Tree': {'max_depth': [1, 2, 5, 10, 100], 'ccp_alpha': [0.0, 0.1, 0.3, 0.5], 'min_samples_split': [2, 5, 10]},\n",
    "    'Random Forest': {'max_depth': [1, 5, 10], 'n_estimators': [10, 100, 1000], 'max_features': ['sqrt', 'log2'], 'min_samples_split': [2, 5, 10]}}\n",
    "\n",
    "for model_name, model in models.items():\n",
    "    print(f'Training {model_name}')\n",
    "    grid_search = GridSearchCV(model, param_grid[model_name], cv=5)\n",
    "    grid_search.fit(X_train, y_train)\n",
    "    print(f'Best parameters: {grid_search.best_params_}')\n",
    "    print(f'Best score: {grid_search.best_score_}')\n",
    "    models[model_name] = grid_search.best_estimator_\n",
    "\n"
   ]
  },
  {
   "cell_type": "code",
   "execution_count": null,
   "metadata": {},
   "outputs": [
    {
     "name": "stdout",
     "output_type": "stream",
     "text": [
      "                 Model  Accuracy  Precision  Recall        F1\n",
      "0          Naive Bayes   0.81250   0.804878  0.8250  0.814815\n",
      "1  Logistic Regression   0.82500   0.851351  0.7875  0.818182\n",
      "2        Decision Tree   0.68125   0.698630  0.6375  0.666667\n",
      "3        Random Forest   0.78125   0.826087  0.7125  0.765101\n"
     ]
    }
   ],
   "source": [
    "# Evaluate models\n",
    "\n",
    "results = pd.DataFrame(columns=['Model', 'Accuracy', 'Precision', 'Recall', 'F1'])\n",
    "all_models[\"bigram-no-normalization\"] = {}\n",
    "for model_name, model in models.items():\n",
    "    y_pred = model.predict(X_test)\n",
    "    result = pd.DataFrame({\n",
    "        'Model': [model_name],\n",
    "        'Accuracy': [accuracy_score(y_test, y_pred)],\n",
    "        'Precision': [precision_score(y_test, y_pred)],\n",
    "        'Recall': [recall_score(y_test, y_pred)],\n",
    "        'F1': [f1_score(y_test, y_pred)]\n",
    "    })\n",
    "    results = pd.concat([results, result], ignore_index=True)\n",
    "    all_models[\"bigram-with-normalization\"][model_name] = {}\n",
    "    all_models[\"bigram-with-normalization\"][model_name][\"y_pred\"] = y_pred.copy()\n",
    "    all_models[\"bigram-with-normalization\"][model_name][\"y_test\"] = y_test.copy()\n",
    "    all_models[\"bigram-with-normalization\"][model_name][\"model\"] = model\n",
    " \n",
    "\n",
    "print(results)"
   ]
  },
  {
   "cell_type": "code",
   "execution_count": null,
   "metadata": {},
   "outputs": [
    {
     "name": "stdout",
     "output_type": "stream",
     "text": [
      "Feature Importance: Random Forest\n",
      "       Feature  Importance\n",
      "164    chicago    0.057821\n",
      "1004       was    0.015936\n",
      "542         my    0.015786\n",
      "471   location    0.012622\n",
      "96      at the    0.012526\n",
      "92          at    0.011018\n",
      "389      hotel    0.010524\n",
      "766      smell    0.009286\n",
      "292    finally    0.009267\n",
      "113         be    0.008964\n",
      "\n",
      "Feature Importance: Decision Tree\n",
      "         Feature  Importance\n",
      "164      chicago    0.208237\n",
      "542           my    0.040486\n",
      "92            at    0.035636\n",
      "881    the staff    0.035005\n",
      "969       turned    0.033791\n",
      "257         east    0.032585\n",
      "234      decided    0.029558\n",
      "905    there are    0.026983\n",
      "188  cleanliness    0.021552\n",
      "59       and the    0.020754\n"
     ]
    }
   ],
   "source": [
    "# Feature importance\n",
    "print('Feature Importance: Random Forest')\n",
    "feature_importance_rf = pd.DataFrame(columns=['Feature', 'Importance'])\n",
    "feature_importance_rf['Feature'] = X_train.columns\n",
    "feature_importance_rf['Importance'] = models['Random Forest'].feature_importances_\n",
    "feature_importance_rf = feature_importance_rf.sort_values(by='Importance', ascending=False)\n",
    "print(feature_importance_rf.head(10))\n",
    "\n",
    "print('\\nFeature Importance: Decision Tree')\n",
    "feature_importance_dt = pd.DataFrame(columns=['Feature', 'Importance'])\n",
    "feature_importance_dt['Feature'] = X_train.columns\n",
    "feature_importance_dt['Importance'] = models['Decision Tree'].feature_importances_\n",
    "feature_importance_dt = feature_importance_dt.sort_values(by='Importance', ascending=False)\n",
    "print(feature_importance_dt.head(10))"
   ]
  },
  {
   "cell_type": "code",
   "execution_count": null,
   "metadata": {},
   "outputs": [
    {
     "data": {
      "image/png": "[encoded data removed]",
      "text/plain": [
       "<Figure size 360x360 with 1 Axes>"
      ]
     },
     "metadata": {
      "needs_background": "light"
     },
     "output_type": "display_data"
    }
   ],
   "source": [
    "# Plot DT\n",
    "plt.figure(figsize=(5, 5))\n",
    "plot_tree(models['Decision Tree'], filled=True, feature_names=X_train.columns)\n",
    "plt.show()"
   ]
  },
  {
   "cell_type": "code",
   "execution_count": null,
   "metadata": {},
   "outputs": [],
   "source": [
    "from sklearn.metrics import accuracy_score\n",
    "from statsmodels.stats.contingency_tables import mcnemar\n",
    "\n",
    "def mcnemar_test(preds1, preds2, y_test):\n",
    "    # Generate predictions for both models\n",
    "    \n",
    "    # Calculate discordant pairs\n",
    "    b = sum((preds1 == y_test) & (preds2 != y_test))  # Model 1 correct, Model 2 incorrect\n",
    "    c = sum((preds1 != y_test) & (preds2 == y_test))  # Model 1 incorrect, Model 2 correct\n",
    "    \n",
    "    # Create contingency table\n",
    "    table = [[0, b], [c, 0]]\n",
    "    \n",
    "    # Perform McNemar test\n",
    "    result = mcnemar(table, exact=True)\n",
    "    \n",
    "    return result\n",
    "\n",
    "# Example usage:\n",
    "# result = mcnemar_test(trained_model1, trained_model2, X_test, y_test)\n",
    "# print('McNemar test statistic:', result.statistic)\n",
    "# print('p-value:', result.pvalue)"
   ]
  },
  {
   "cell_type": "code",
   "execution_count": null,
   "metadata": {},
   "outputs": [],
   "source": [
    "import pickle\n",
    "pickle.dump(all_models, open(\"all_models.p\", \"wb\"))\n"
   ]
  },
  {
   "cell_type": "code",
   "execution_count": null,
   "metadata": {},
   "outputs": [
    {
     "name": "stdout",
     "output_type": "stream",
     "text": [
      "unigram-no-normalization\n",
      "unigram-with-normalization\n",
      "bigram-no-normalization\n",
      "(RandomForestClassifier(), 0.83125)\n"
     ]
    }
   ],
   "source": [
    "def find_best(all_models):\n",
    "    best_model = None\n",
    "    best_score = 0\n",
    "    for key, value in all_models.items():\n",
    "        print(key)\n",
    "        y_pred = value['Logistic Regression'][\"y_pred\"]\n",
    "        #print(y_pred)\n",
    "        score = accuracy_score(value['Logistic Regression'][\"y_test\"], y_pred)\n",
    "        #print(score)\n",
    "        if score > best_score:\n",
    "            best_score = score\n",
    "            best_model = model\n",
    "    return best_model, best_score\n",
    "\n",
    "#print(all_models[\"unigram-no-normalization\"])\n",
    "\n",
    "#print(all_models)\n",
    "print(find_best(all_models))"
   ]
  },
  {
   "cell_type": "code",
   "execution_count": null,
   "metadata": {},
   "outputs": [
    {
     "name": "stdout",
     "output_type": "stream",
     "text": [
      "{('unigram-no-normalization', 'Naive Bayes', 'Logistic Regression'): 'pvalue      0.08715855330228806\\nstatistic   9.0', ('unigram-no-normalization', 'Naive Bayes', 'Decision Tree'): 'pvalue      1.3280368233066496e-11\\nstatistic   7.0', ('unigram-no-normalization', 'Naive Bayes', 'Random Forest'): 'pvalue      0.03508203336969018\\nstatistic   10.0', ('unigram-no-normalization', 'Logistic Regression', 'Naive Bayes'): 'pvalue      0.08715855330228806\\nstatistic   9.0', ('unigram-no-normalization', 'Logistic Regression', 'Decision Tree'): 'pvalue      6.027539034309403e-08\\nstatistic   11.0', ('unigram-no-normalization', 'Logistic Regression', 'Random Forest'): 'pvalue      0.735878800856881\\nstatistic   16.0', ('unigram-no-normalization', 'Decision Tree', 'Naive Bayes'): 'pvalue      1.3280368233066496e-11\\nstatistic   7.0', ('unigram-no-normalization', 'Decision Tree', 'Logistic Regression'): 'pvalue      6.027539034309403e-08\\nstatistic   11.0', ('unigram-no-normalization', 'Decision Tree', 'Random Forest'): 'pvalue      4.5666107004454105e-07\\nstatistic   12.0', ('unigram-no-normalization', 'Random Forest', 'Naive Bayes'): 'pvalue      0.03508203336969018\\nstatistic   10.0', ('unigram-no-normalization', 'Random Forest', 'Logistic Regression'): 'pvalue      0.735878800856881\\nstatistic   16.0', ('unigram-no-normalization', 'Random Forest', 'Decision Tree'): 'pvalue      4.5666107004454105e-07\\nstatistic   12.0', ('unigram-with-normalization', 'Naive Bayes', 'Logistic Regression'): 'pvalue      0.6900379657745361\\nstatistic   11.0', ('unigram-with-normalization', 'Naive Bayes', 'Decision Tree'): 'pvalue      0.0026672623828598026\\nstatistic   16.0', ('unigram-with-normalization', 'Naive Bayes', 'Random Forest'): 'pvalue      0.720100131817162\\nstatistic   14.0', ('unigram-with-normalization', 'Logistic Regression', 'Naive Bayes'): 'pvalue      0.6900379657745361\\nstatistic   11.0', ('unigram-with-normalization', 'Logistic Regression', 'Decision Tree'): 'pvalue      0.0077874363057435225\\nstatistic   16.0', ('unigram-with-normalization', 'Logistic Regression', 'Random Forest'): 'pvalue      1.0\\nstatistic   10.0', ('unigram-with-normalization', 'Decision Tree', 'Naive Bayes'): 'pvalue      0.0026672623828598026\\nstatistic   16.0', ('unigram-with-normalization', 'Decision Tree', 'Logistic Regression'): 'pvalue      0.0077874363057435225\\nstatistic   16.0', ('unigram-with-normalization', 'Decision Tree', 'Random Forest'): 'pvalue      0.002887247974285856\\nstatistic   11.0', ('unigram-with-normalization', 'Random Forest', 'Naive Bayes'): 'pvalue      0.720100131817162\\nstatistic   14.0', ('unigram-with-normalization', 'Random Forest', 'Logistic Regression'): 'pvalue      1.0\\nstatistic   10.0', ('unigram-with-normalization', 'Random Forest', 'Decision Tree'): 'pvalue      0.002887247974285856\\nstatistic   11.0', ('bigram-no-normalization', 'Naive Bayes', 'Logistic Regression'): 'pvalue      0.8318119049072266\\nstatistic   10.0', ('bigram-no-normalization', 'Naive Bayes', 'Decision Tree'): 'pvalue      0.008641499683281734\\nstatistic   19.0', ('bigram-no-normalization', 'Naive Bayes', 'Random Forest'): 'pvalue      0.5223973804968411\\nstatistic   17.0', ('bigram-no-normalization', 'Logistic Regression', 'Naive Bayes'): 'pvalue      0.8318119049072266\\nstatistic   10.0', ('bigram-no-normalization', 'Logistic Regression', 'Decision Tree'): 'pvalue      0.0037937056353716074\\nstatistic   18.0', ('bigram-no-normalization', 'Logistic Regression', 'Random Forest'): 'pvalue      0.21003961563110352\\nstatistic   8.0', ('bigram-no-normalization', 'Decision Tree', 'Naive Bayes'): 'pvalue      0.008641499683281734\\nstatistic   19.0', ('bigram-no-normalization', 'Decision Tree', 'Logistic Regression'): 'pvalue      0.0037937056353716074\\nstatistic   18.0', ('bigram-no-normalization', 'Decision Tree', 'Random Forest'): 'pvalue      0.04022356409571669\\nstatistic   19.0', ('bigram-no-normalization', 'Random Forest', 'Naive Bayes'): 'pvalue      0.5223973804968411\\nstatistic   17.0', ('bigram-no-normalization', 'Random Forest', 'Logistic Regression'): 'pvalue      0.21003961563110352\\nstatistic   8.0', ('bigram-no-normalization', 'Random Forest', 'Decision Tree'): 'pvalue      0.04022356409571669\\nstatistic   19.0'}\n"
     ]
    }
   ],
   "source": [
    "def mc_nemar_modela_to_modelb_same_data(models):\n",
    "    results = {}\n",
    "    for model_data_name, models_by_dataset in models.items():\n",
    "        for model_name, model in models_by_dataset.items():\n",
    "            for model_name2, model2 in models_by_dataset.items():\n",
    "                if model_name == model_name2:\n",
    "                    continue\n",
    "                if (model_name2, model_name) in results:\n",
    "                    continue\n",
    "        #        print(model_name, model_name2)\n",
    "         #       print(model)\n",
    "                results[(model_data_name, model_name, model_name2)] = str(mcnemar_test(model[\"y_pred\"], model2[\"y_pred\"], model[\"y_test\"]))\n",
    "        \n",
    "        #print(f'{model_name} confusion matrix')\n",
    "        #print(confusion_matrix(y_test, y_pred))\n",
    "       # print(f' mcnemar test between: {model_name} and {model_name2}')\n",
    "        #(mcnemar_test(model, model2, X_test, y_test))\n",
    "        #(mcnemar_test_models(model.predict(X_test), model2.predict(X_test), y_test))\n",
    "       # print('\\n')\n",
    "    return results\n",
    "def mc_nemar_dataa_to_datab_same_model(models):\n",
    "    result = {}\n",
    "    for model_data_name, models_by_dataset in models.items():\n",
    "        for model_data_name2, models_by_dataset2 in models.items():\n",
    "            if model_data_name == model_data_name2:\n",
    "               continue\n",
    "            for model_name, model in models_by_dataset.items():\n",
    "                for model_name2, model2 in models_by_dataset2.items():\n",
    "                    result[(model_name, model_data_name, model_data_name2)] = str(mcnemar_test(model[\"y_pred\"], model2[\"y_pred\"], model[\"y_test\"]))\n",
    "                   # print('\\n')\n",
    "    return result\n",
    "print(mc_nemar_modela_to_modelb_same_data(all_models))\n",
    "#print(mc_nemar_dataa_to_datab_same_model(all_models))\n"
   ]
  }
 ],
 "metadata": {
  "kernelspec": {
   "display_name": "uu_courses",
   "language": "python",
   "name": "python3"
  },
  "language_info": {
   "codemirror_mode": {
    "name": "ipython",
    "version": 3
   },
   "file_extension": ".py",
   "mimetype": "text/x-python",
   "name": "python",
   "nbconvert_exporter": "python",
   "pygments_lexer": "ipython3",
   "version": "3.11.5"
  }
 },
 "nbformat": 4,
 "nbformat_minor": 2
}
