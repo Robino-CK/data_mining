{
 "cells": [
  {
   "cell_type": "code",
   "execution_count": 13,
   "metadata": {},
   "outputs": [],
   "source": [
    "import numpy as np\n",
    "import sklearn \n",
    "from sklearn.metrics import confusion_matrix\n",
    "\n",
    "import graphviz\n",
    "\n",
    "from DecisionTreeClassifier import DecisionTreeClassifier"
   ]
  },
  {
   "cell_type": "code",
   "execution_count": 20,
   "metadata": {},
   "outputs": [
    {
     "name": "stdout",
     "output_type": "stream",
     "text": [
      "(10, 6)\n",
      " Node:  3 40.0\n",
      "  Node:  0 45.0\n",
      "   Leaf:  0.0\n",
      "   Node:  1 1.0\n",
      "    Leaf:  0.0\n",
      "    Leaf:  1.0\n",
      "  Leaf:  1.0\n"
     ]
    },
    {
     "data": {
      "text/plain": [
       "array([[5, 0],\n",
       "       [0, 5]])"
      ]
     },
     "execution_count": 20,
     "metadata": {},
     "output_type": "execute_result"
    }
   ],
   "source": [
    "dt = DecisionTreeClassifier.DecisionTree()\n",
    "credit = np.loadtxt('credit.txt', delimiter=',', skiprows=1)\n",
    "print(credit.shape)\n",
    "\n",
    "dt_credit = DecisionTreeClassifier.DecisionTree()\n",
    "dt_credit.tree_grow(credit[:, :-1], credit[:, -1], nmin=1, minleaf=1, nfeat=None)\n",
    "dt_credit.print_tree()\n",
    "#dt_credit.plot_tree()\n",
    "\n",
    "y_pred = dt_credit.tree_predict(credit[:, :-1])\n",
    "y_true = credit[:,-1]\n",
    "confusion_matrix(y_true, y_pred)"
   ]
  },
  {
   "cell_type": "markdown",
   "metadata": {},
   "source": [
    "# PIMA Indians Dataset"
   ]
  },
  {
   "cell_type": "code",
   "execution_count": 19,
   "metadata": {},
   "outputs": [
    {
     "name": "stdout",
     "output_type": "stream",
     "text": [
      "(767, 9)\n"
     ]
    },
    {
     "data": {
      "text/plain": [
       "array([[277, 223],\n",
       "       [  0, 267]])"
      ]
     },
     "execution_count": 19,
     "metadata": {},
     "output_type": "execute_result"
    }
   ],
   "source": [
    "pima = np.loadtxt('pima.txt', delimiter=',', skiprows=1)\n",
    "\n",
    "dt_pima = DecisionTreeClassifier.DecisionTree()\n",
    "dt_pima.tree_grow(pima[:, :-1], pima[:, -1], nmin=20, minleaf=5, nfeat=None)\n",
    "#dt_pima.print_tree()\n",
    "#dt_pima.plot_tree()\n",
    "\n",
    "y_pred = dt_pima.tree_predict(pima[:, :-1])\n",
    "y_true = pima[:,-1]\n",
    "confusion_matrix(y_true, y_pred)"
   ]
  },
  {
   "cell_type": "code",
   "execution_count": null,
   "metadata": {},
   "outputs": [],
   "source": []
  }
 ],
 "metadata": {
  "kernelspec": {
   "display_name": "uu_courses",
   "language": "python",
   "name": "python3"
  },
  "language_info": {
   "codemirror_mode": {
    "name": "ipython",
    "version": 3
   },
   "file_extension": ".py",
   "mimetype": "text/x-python",
   "name": "python",
   "nbconvert_exporter": "python",
   "pygments_lexer": "ipython3",
   "version": "3.11.5"
  }
 },
 "nbformat": 4,
 "nbformat_minor": 2
}
